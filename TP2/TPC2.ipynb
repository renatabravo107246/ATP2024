{
 "cells": [
  {
   "cell_type": "markdown",
   "metadata": {},
   "source": [
    "### TPC2: Adivinha o número\n",
    "- Crie um programa em Python para jogar o jogo \"Adivinha o número\":\n",
    "    - O jogo pode ter 2 modalidades: computador pensa num número (entre 0 e 100), utilizador tenta adivinhar; ou, o utilizador pensa num número (entre 0 e 100) e o computador tenta adivinhar;\n",
    "    - Quem tenta adivinhar responde com uma das afirmações: \"Acertou\", \"O número que pensei é Maior\" ou \"O número que pensei é Menor\";\n",
    "    - Uma vez descoberto o número o programa deverá terminar imprimindo o número de tentativas que quem adivinhou usou para chegar ao resultado."
   ]
  },
  {
   "cell_type": "code",
   "execution_count": 11,
   "metadata": {},
   "outputs": [
    {
     "name": "stdout",
     "output_type": "stream",
     "text": [
      "O número que pensei é Maior que 80\n",
      "O número que pensei é Maior que 90\n",
      "O número que pensei é Maior que 95\n",
      "O número que pensei é Menor que 100\n",
      "O número que pensei é Maior que 97\n",
      "Acertou em 6 tentativas!\n"
     ]
    }
   ],
   "source": [
    "# Utilizador adivinha\n",
    "\n",
    "import random \n",
    "\n",
    "min = 0\n",
    "max = 100\n",
    "a = random.randint(min,max)\n",
    "b = int(input(\"Qual foi o número que pensei?\"))\n",
    "tentativas = 1\n",
    "\n",
    "while b != a:\n",
    "    if b < a:\n",
    "        print(\"O número que pensei é Maior que\", b)\n",
    "        b = int(input(\"Qual foi o número que pensei?\"))\n",
    "\n",
    "    else:\n",
    "        print(\"O número que pensei é Menor que\", b)\n",
    "        b = int(input(\"Qual foi o número que pensei?\"))\n",
    "        \n",
    "    tentativas = tentativas + 1\n",
    "print(\"Acertou em\", tentativas, \"tentativas!\")"
   ]
  },
  {
   "cell_type": "code",
   "execution_count": 17,
   "metadata": {},
   "outputs": [
    {
     "name": "stdout",
     "output_type": "stream",
     "text": [
      "Acertou em 3 tentativas!\n"
     ]
    }
   ],
   "source": [
    "# Computador adivinha\n",
    "import random\n",
    "\n",
    "min = 0\n",
    "max = 100\n",
    "a = random.randint(min,max)\n",
    "b = (input(f\"O número que pensaste foi {a}\"))\n",
    "tentativas = 1\n",
    "\n",
    "while b != \"Acertou\":\n",
    "    if b == \"Maior\":\n",
    "        min = a + 1\n",
    "        \n",
    "    elif b == \"Menor\":\n",
    "        max = a - 1\n",
    "\n",
    "    a = random.randint(min,max)\n",
    "    tentativas = tentativas + 1\n",
    "    b = (input(f\"O número que pensaste foi {a}\"))\n",
    "\n",
    "print(\"Acertou em\", tentativas, \"tentativas!\")"
   ]
  }
 ],
 "metadata": {
  "kernelspec": {
   "display_name": "Python 3",
   "language": "python",
   "name": "python3"
  },
  "language_info": {
   "codemirror_mode": {
    "name": "ipython",
    "version": 3
   },
   "file_extension": ".py",
   "mimetype": "text/x-python",
   "name": "python",
   "nbconvert_exporter": "python",
   "pygments_lexer": "ipython3",
   "version": "3.12.6"
  }
 },
 "nbformat": 4,
 "nbformat_minor": 2
}
